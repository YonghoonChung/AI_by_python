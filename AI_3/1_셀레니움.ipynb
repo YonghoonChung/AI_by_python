{
 "cells": [
  {
   "cell_type": "code",
   "execution_count": 2,
   "id": "91e56ae5-5ae6-43bd-94fe-4950c792a826",
   "metadata": {
    "tags": []
   },
   "outputs": [
    {
     "name": "stdout",
     "output_type": "stream",
     "text": [
      "Requirement already satisfied: selenium in c:\\users\\yongh\\appdata\\local\\programs\\python\\python38\\lib\\site-packages (4.1.0)\n",
      "Requirement already satisfied: trio~=0.17 in c:\\users\\yongh\\appdata\\local\\programs\\python\\python38\\lib\\site-packages (from selenium) (0.19.0)\n",
      "Requirement already satisfied: urllib3[secure]~=1.26 in c:\\users\\yongh\\appdata\\local\\programs\\python\\python38\\lib\\site-packages (from selenium) (1.26.7)\n",
      "Requirement already satisfied: trio-websocket~=0.9 in c:\\users\\yongh\\appdata\\local\\programs\\python\\python38\\lib\\site-packages (from selenium) (0.9.2)\n",
      "Requirement already satisfied: outcome in c:\\users\\yongh\\appdata\\local\\programs\\python\\python38\\lib\\site-packages (from trio~=0.17->selenium) (1.1.0)\n",
      "Requirement already satisfied: idna in c:\\users\\yongh\\appdata\\local\\programs\\python\\python38\\lib\\site-packages (from trio~=0.17->selenium) (3.3)\n",
      "Requirement already satisfied: attrs>=19.2.0 in c:\\users\\yongh\\appdata\\local\\programs\\python\\python38\\lib\\site-packages (from trio~=0.17->selenium) (21.4.0)\n",
      "Requirement already satisfied: sniffio in c:\\users\\yongh\\appdata\\local\\programs\\python\\python38\\lib\\site-packages (from trio~=0.17->selenium) (1.2.0)\n",
      "Requirement already satisfied: async-generator>=1.9 in c:\\users\\yongh\\appdata\\local\\programs\\python\\python38\\lib\\site-packages (from trio~=0.17->selenium) (1.10)\n",
      "Requirement already satisfied: sortedcontainers in c:\\users\\yongh\\appdata\\local\\programs\\python\\python38\\lib\\site-packages (from trio~=0.17->selenium) (2.4.0)\n",
      "Requirement already satisfied: cffi>=1.14; os_name == \"nt\" and implementation_name != \"pypy\" in c:\\users\\yongh\\appdata\\local\\programs\\python\\python38\\lib\\site-packages (from trio~=0.17->selenium) (1.15.0)\n",
      "Requirement already satisfied: cryptography>=1.3.4; extra == \"secure\" in c:\\users\\yongh\\appdata\\local\\programs\\python\\python38\\lib\\site-packages (from urllib3[secure]~=1.26->selenium) (36.0.1)\n",
      "Requirement already satisfied: certifi; extra == \"secure\" in c:\\users\\yongh\\appdata\\local\\programs\\python\\python38\\lib\\site-packages (from urllib3[secure]~=1.26->selenium) (2021.10.8)\n",
      "Requirement already satisfied: pyOpenSSL>=0.14; extra == \"secure\" in c:\\users\\yongh\\appdata\\local\\programs\\python\\python38\\lib\\site-packages (from urllib3[secure]~=1.26->selenium) (21.0.0)\n",
      "Requirement already satisfied: wsproto>=0.14 in c:\\users\\yongh\\appdata\\local\\programs\\python\\python38\\lib\\site-packages (from trio-websocket~=0.9->selenium) (1.0.0)\n",
      "Requirement already satisfied: pycparser in c:\\users\\yongh\\appdata\\local\\programs\\python\\python38\\lib\\site-packages (from cffi>=1.14; os_name == \"nt\" and implementation_name != \"pypy\"->trio~=0.17->selenium) (2.21)\n",
      "Requirement already satisfied: six>=1.5.2 in c:\\users\\yongh\\appdata\\local\\programs\\python\\python38\\lib\\site-packages (from pyOpenSSL>=0.14; extra == \"secure\"->urllib3[secure]~=1.26->selenium) (1.16.0)\n",
      "Requirement already satisfied: h11<1,>=0.9.0 in c:\\users\\yongh\\appdata\\local\\programs\\python\\python38\\lib\\site-packages (from wsproto>=0.14->trio-websocket~=0.9->selenium) (0.12.0)\n"
     ]
    },
    {
     "name": "stderr",
     "output_type": "stream",
     "text": [
      "WARNING: You are using pip version 20.2.3; however, version 21.3.1 is available.\n",
      "You should consider upgrading via the 'c:\\users\\yongh\\appdata\\local\\programs\\python\\python38\\python.exe -m pip install --upgrade pip' command.\n"
     ]
    }
   ],
   "source": [
    "!pip install selenium"
   ]
  },
  {
   "cell_type": "code",
   "execution_count": 3,
   "id": "071c6d0f-a967-4b2d-ac1a-568c2442e79b",
   "metadata": {},
   "outputs": [],
   "source": [
    "from selenium import webdriver\n",
    "from selenium.webdriver.common.keys import Keys"
   ]
  },
  {
   "cell_type": "code",
   "execution_count": 4,
   "id": "638a716d-d39c-4a69-aeea-fe4eec3c1354",
   "metadata": {
    "tags": []
   },
   "outputs": [
    {
     "name": "stderr",
     "output_type": "stream",
     "text": [
      "C:\\Users\\yongh\\AppData\\Local\\Temp/ipykernel_2688/2114758416.py:1: DeprecationWarning: executable_path has been deprecated, please pass in a Service object\n",
      "  driver = webdriver.Chrome('D:\\KoreaIT\\AI\\AI_3\\chromedriver.exe')\n"
     ]
    }
   ],
   "source": [
    "driver = webdriver.Chrome('D:\\KoreaIT\\AI\\AI_3\\chromedriver.exe')"
   ]
  },
  {
   "cell_type": "code",
   "execution_count": 5,
   "id": "feee8009-641d-459b-a629-600b6927fa0f",
   "metadata": {},
   "outputs": [],
   "source": [
    "driver.get('https://www.python.org/')"
   ]
  },
  {
   "cell_type": "code",
   "execution_count": 6,
   "id": "42dfe3ba-2314-4377-8588-b1acf07c929e",
   "metadata": {
    "tags": []
   },
   "outputs": [
    {
     "name": "stderr",
     "output_type": "stream",
     "text": [
      "C:\\Users\\yongh\\AppData\\Local\\Temp/ipykernel_2688/1936171971.py:1: DeprecationWarning: find_element_by_* commands are deprecated. Please use find_element() instead\n",
      "  search = driver.find_element_by_id('id-search-field')\n"
     ]
    }
   ],
   "source": [
    "search = driver.find_element_by_id('id-search-field')\n",
    "search.send_keys('lambda')\n",
    "search.send_keys(Keys.RETURN)"
   ]
  },
  {
   "cell_type": "markdown",
   "id": "cbdc4a72-ad19-4bc6-b128-f61b02f7c844",
   "metadata": {},
   "source": [
    "### 네이트 실시간 검색어\n",
    "* https://www.nate.com/"
   ]
  },
  {
   "cell_type": "code",
   "execution_count": 7,
   "id": "94308abf-f609-440c-8199-eb17eeec332c",
   "metadata": {
    "tags": []
   },
   "outputs": [
    {
     "name": "stdout",
     "output_type": "stream",
     "text": [
      "Requirement already satisfied: bs4 in c:\\users\\yongh\\appdata\\local\\programs\\python\\python38\\lib\\site-packages (0.0.1)\n",
      "Requirement already satisfied: beautifulsoup4 in c:\\users\\yongh\\appdata\\local\\programs\\python\\python38\\lib\\site-packages (from bs4) (4.10.0)\n",
      "Requirement already satisfied: soupsieve>1.2 in c:\\users\\yongh\\appdata\\local\\programs\\python\\python38\\lib\\site-packages (from beautifulsoup4->bs4) (2.3.1)\n"
     ]
    },
    {
     "name": "stderr",
     "output_type": "stream",
     "text": [
      "WARNING: You are using pip version 20.2.3; however, version 21.3.1 is available.\n",
      "You should consider upgrading via the 'c:\\users\\yongh\\appdata\\local\\programs\\python\\python38\\python.exe -m pip install --upgrade pip' command.\n"
     ]
    }
   ],
   "source": [
    "!pip install bs4"
   ]
  },
  {
   "cell_type": "code",
   "execution_count": 8,
   "id": "de35f21b-4358-4003-9a3c-d8d389acee58",
   "metadata": {},
   "outputs": [],
   "source": [
    "from bs4 import BeautifulSoup"
   ]
  },
  {
   "cell_type": "code",
   "execution_count": 9,
   "id": "5ed1c68d-2d99-40c4-9c21-9db55d608d14",
   "metadata": {},
   "outputs": [
    {
     "name": "stderr",
     "output_type": "stream",
     "text": [
      "C:\\Users\\yongh\\AppData\\Local\\Temp/ipykernel_2688/2114758416.py:1: DeprecationWarning: executable_path has been deprecated, please pass in a Service object\n",
      "  driver = webdriver.Chrome('D:\\KoreaIT\\AI\\AI_3\\chromedriver.exe')\n"
     ]
    }
   ],
   "source": [
    "driver = webdriver.Chrome('D:\\KoreaIT\\AI\\AI_3\\chromedriver.exe')"
   ]
  },
  {
   "cell_type": "code",
   "execution_count": 10,
   "id": "f08ddf65-e94f-4587-a43e-9b8f9d79f796",
   "metadata": {},
   "outputs": [],
   "source": [
    "driver.get('https://www.nate.com/')"
   ]
  },
  {
   "cell_type": "code",
   "execution_count": 11,
   "id": "245c74a1-045a-4f75-b191-26ccb424e423",
   "metadata": {},
   "outputs": [],
   "source": [
    "# 내가한거\n",
    "# import requests\n",
    "# link = 'https://www.nate.com/'\n",
    "# request = requests.get(link)\n",
    "# html = request.text\n",
    "# soup = BeautifulSoup(html, 'html.parser')"
   ]
  },
  {
   "cell_type": "code",
   "execution_count": 12,
   "id": "f02f31c0-727c-482f-b204-c17851d38fb9",
   "metadata": {},
   "outputs": [],
   "source": [
    "# 내가 한거\n",
    "# lists = []\n",
    "# issues = soup.find_all('ol', class_='isKeywordList')\n",
    "# for i in range(len(issues)):\n",
    "#     list.append(issues[i].text.strip().split('\\n')[0])\n",
    "\n",
    "# print(lists)"
   ]
  },
  {
   "cell_type": "code",
   "execution_count": 23,
   "id": "bbab46af-defe-4976-b180-449f82d92411",
   "metadata": {},
   "outputs": [],
   "source": [
    "html = driver.page_source\n",
    "soup = BeautifulSoup(html,'html.parser')\n",
    "issues = soup.find_all('a', class_='ik')"
   ]
  },
  {
   "cell_type": "code",
   "execution_count": 24,
   "id": "6f41c3c9-3c3c-42b5-a202-758150ba727a",
   "metadata": {},
   "outputs": [],
   "source": [
    "for issue in issues:\n",
    "    print(issue.text.split('\\n')[1], end=',')\n",
    "    upDown = issue.text.split('\\n')[2]\n",
    "    # print(upDown)\n",
    "    if upDown[:2] == '상승':\n",
    "        print('↑' + upDown[2:])\n",
    "    elif upDown[:2] == '하락':\n",
    "        print('↓' + upDown[2:])     \n",
    "    elif upDown[:2] == '동일':\n",
    "        print('-')\n",
    "    else:\n",
    "        print(upDown)\n"
   ]
  },
  {
   "cell_type": "markdown",
   "id": "f477a11f-4a9f-4e14-a302-7ab59f4c37ba",
   "metadata": {
    "tags": []
   },
   "source": [
    "### 네이버 웹툰 베스트 댓글\n",
    "* https://comic.naver.com/webtoon/detail?titleId=774862&no=50&weekday=wed"
   ]
  },
  {
   "cell_type": "code",
   "execution_count": 48,
   "id": "6b480de7-8971-4b4d-aef0-5cb437701c8a",
   "metadata": {
    "tags": []
   },
   "outputs": [
    {
     "name": "stderr",
     "output_type": "stream",
     "text": [
      "C:\\Users\\yongh\\AppData\\Local\\Temp/ipykernel_2688/3178335951.py:1: DeprecationWarning: executable_path has been deprecated, please pass in a Service object\n",
      "  driver = webdriver.Chrome('D:\\KoreaIT\\AI\\AI_3\\chromedriver.exe')\n"
     ]
    }
   ],
   "source": [
    "driver = webdriver.Chrome('D:\\KoreaIT\\AI\\AI_3\\chromedriver.exe')\n",
    "driver.get('https://comic.naver.com/comment/comment?titleId=774862&no=50')\n"
   ]
  },
  {
   "cell_type": "code",
   "execution_count": 49,
   "id": "59658b9d-85f9-4ccd-91d2-23f60fa6833a",
   "metadata": {
    "tags": []
   },
   "outputs": [],
   "source": [
    "html = driver.page_source\n",
    "soup = BeautifulSoup(html)"
   ]
  },
  {
   "cell_type": "code",
   "execution_count": 50,
   "id": "0ebe2f52-d039-40f6-a526-669c12adebca",
   "metadata": {
    "collapsed": true,
    "jupyter": {
     "outputs_hidden": true
    },
    "tags": []
   },
   "outputs": [
    {
     "name": "stdout",
     "output_type": "stream",
     "text": [
      "********베스트 댓글*******\n",
      "********************************************************************************\n",
      "늦었어 완이 이미 관짝 들어갔다구\n",
      "********************************************************************************\n",
      "아 안돼 타이밍 ㅠㅠㅠ 완이는 거절당하고 흑화했는데 은조는 지금 설레고있다니ㅠ\n",
      "********************************************************************************\n",
      "내 남친이라니 ㅋㅋㅋㅋㅋㅋ 너무 귀여워\n",
      "********************************************************************************\n",
      "ㅋㅋㅋㅋㅋ 인싸들은 식후 뽀뽀하나 아니ㅋㅋㅋㅋㅋ\n",
      "********************************************************************************\n",
      "친구를 잃는 대신 존잘 남친을 얻겠지....\n",
      "********************************************************************************\n",
      "알려주는 거 존나 친절해 ㅋㅌㅋㅋㅋ\n",
      "********************************************************************************\n",
      "은조 입장에서는 그렇게 느껴질만두 했겠다 1년동안 연락 안하던 상태니까..\n",
      "********************************************************************************\n",
      "은조 성공했구나 전망 좋은집 킹사이즈 침대에서 나 좋다는 존잘 연하남 생각에 밤 잠 못이루고\n",
      "********************************************************************************\n",
      "알았으면 완이한테 연락 좀 해줘\n",
      "********************************************************************************\n",
      "난 또 뭐라고라니ㅋㅋㅋㅋㅋㅋ별일 아닌것처럼 얘기하네ㅋㅋㅋㅋ\n",
      "********************************************************************************\n",
      "야.. 왜 농락하고 그래..\n",
      "********************************************************************************\n",
      "은조...가끔가다 삔또 나간 생각하는게 너무 웃기다\n",
      "********************************************************************************\n",
      "남친이 날라갔다\n",
      "********************************************************************************\n",
      "내일의 조 믿고 잇었다고 젠장~~~~~~~\n",
      "********************************************************************************\n",
      "무빙건, 나 요즘 일주일 내내 조조코믹스만 기다려.\n"
     ]
    }
   ],
   "source": [
    "best_comments = soup.find_all('span', class_='u_cbox_contents')\n",
    "print('********베스트 댓글*******')\n",
    "for i in range(len(best_comments)):\n",
    "    comment = best_comments[i].text.strip()\n",
    "    print('*'*80)\n",
    "    print(comment)"
   ]
  },
  {
   "cell_type": "code",
   "execution_count": 56,
   "id": "4ab72df2-0dcf-4c1a-97ba-16cdaf29ccb9",
   "metadata": {},
   "outputs": [
    {
     "name": "stderr",
     "output_type": "stream",
     "text": [
      "C:\\Users\\yongh\\AppData\\Local\\Temp/ipykernel_2688/3972683248.py:2: DeprecationWarning: find_element_by_* commands are deprecated. Please use find_element() instead\n",
      "  driver.find_element_by_xpath('//*[@id=\"cbox_module\"]/div/div[8]/a/span[1]').click()\n"
     ]
    }
   ],
   "source": [
    "# 전체 댓글\n",
    "driver.find_element_by_xpath('//*[@id=\"cbox_module\"]/div/div[8]/a/span[1]').click()\n"
   ]
  },
  {
   "cell_type": "code",
   "execution_count": 45,
   "id": "1d8a7e4c-6065-4927-8073-e9a635bc855a",
   "metadata": {},
   "outputs": [
    {
     "name": "stderr",
     "output_type": "stream",
     "text": [
      "C:\\Users\\yongh\\AppData\\Local\\Temp/ipykernel_2688/2553056103.py:2: DeprecationWarning: find_element_by_* commands are deprecated. Please use find_element() instead\n",
      "  driver.find_element_by_xpath('//*[@id=\"cbox_module\"]/div/div[7]/div/a[2]').click()\n"
     ]
    }
   ],
   "source": [
    "# 3번째 전체 댓글\n",
    "driver.find_element_by_xpath('//*[@id=\"cbox_module\"]/div/div[7]/div/a[2]').click()\n"
   ]
  },
  {
   "cell_type": "code",
   "execution_count": 46,
   "id": "4b72e1c2-c123-4b55-83a8-2b26faff5f77",
   "metadata": {
    "collapsed": true,
    "jupyter": {
     "outputs_hidden": true
    },
    "tags": []
   },
   "outputs": [
    {
     "name": "stderr",
     "output_type": "stream",
     "text": [
      "C:\\Users\\yongh\\AppData\\Local\\Temp/ipykernel_2688/3638975974.py:1: DeprecationWarning: find_element_by_* commands are deprecated. Please use find_element() instead\n",
      "  driver.find_element_by_xpath('//*[@id=\"cbox_module\"]/div/div[7]/div/a[4]').click()\n"
     ]
    }
   ],
   "source": [
    "driver.find_element_by_xpath('//*[@id=\"cbox_module\"]/div/div[7]/div/a[4]').click()"
   ]
  },
  {
   "cell_type": "code",
   "execution_count": null,
   "id": "b0e7a9c8-5989-41f8-9b11-e9e988524137",
   "metadata": {},
   "outputs": [],
   "source": [
    "driver.find_element_by_xpath('//*[@id=\"cbox_module\"]/div/div[7]/div/a[3]').click()"
   ]
  },
  {
   "cell_type": "code",
   "execution_count": 53,
   "id": "45b86c82-1ff2-43e9-b36b-29d14f02037b",
   "metadata": {
    "collapsed": true,
    "jupyter": {
     "outputs_hidden": true
    },
    "tags": []
   },
   "outputs": [
    {
     "name": "stdout",
     "output_type": "stream",
     "text": [
      "*** 전체 댓글 ***\n",
      "--------------------------------------------------------------------------------\n",
      "뭐랰ㅋㅋ인싸들이 왜 식후에 뽀뽀하냐고 ㅋㅋㅋ\n",
      "--------------------------------------------------------------------------------\n",
      "그때부터 였어요, 순간이 1년이 된 게\n",
      "--------------------------------------------------------------------------------\n",
      "했으면 바로 ㅅㅅ각이었지 진지하게 생각했으면 안하는게 맞았다\n",
      "--------------------------------------------------------------------------------\n",
      "대놓구물어봐주면안되 이렇게 타이밍이 중요하다지\n",
      "--------------------------------------------------------------------------------\n",
      "둘이 약간....아니 많이 엇갈린 거 같은데.... 😢\n",
      "--------------------------------------------------------------------------------\n",
      "ㅇㅇㅇㅇㅇㅇㅇㅇ!!!!!!\n",
      "--------------------------------------------------------------------------------\n",
      "와 집 최고다\n",
      "--------------------------------------------------------------------------------\n",
      "응 맞아 그거야\n",
      "--------------------------------------------------------------------------------\n",
      "어서 완이한테 전화해서 다시 수습해봐 ㅠ!!!!\n",
      "--------------------------------------------------------------------------------\n",
      "한번이 아니잖아!\n",
      "--------------------------------------------------------------------------------\n",
      "은조야…. ㅠㅠㅠㅠㅠㅠ\n",
      "--------------------------------------------------------------------------------\n",
      "은조야 선톡 보내!!!\n",
      "--------------------------------------------------------------------------------\n",
      "바보\n",
      "--------------------------------------------------------------------------------\n",
      "으이구 그걸 이제 알았냐? 완이 그렇게 보내놓고? 힝..\n",
      "--------------------------------------------------------------------------------\n",
      "어제의 조... 너어는 진짜 \n",
      "촉 좋은척 흐지므르...\n"
     ]
    },
    {
     "name": "stderr",
     "output_type": "stream",
     "text": [
      "C:\\Users\\yongh\\AppData\\Local\\Temp/ipykernel_2688/2183111576.py:16: DeprecationWarning: find_element_by_* commands are deprecated. Please use find_element() instead\n",
      "  driver.find_element_by_xpath('//*[@id=\"cbox_module\"]/div/div[7]/div/a[' + str(i) + ']').click()\n"
     ]
    },
    {
     "name": "stdout",
     "output_type": "stream",
     "text": [
      "--------------------------------------------------------------------------------\n",
      "폐기물 웹툰 😹😹\n",
      "--------------------------------------------------------------------------------\n",
      "망했어\n",
      "--------------------------------------------------------------------------------\n",
      "지금이라도 \"자니\"날려\n",
      "--------------------------------------------------------------------------------\n",
      "근데 은조 이미 사귄다 아님?\n",
      "--------------------------------------------------------------------------------\n",
      "이미 지나갔는데...ㅠ\n",
      "--------------------------------------------------------------------------------\n",
      "정말 총체적 난국이다\n",
      "--------------------------------------------------------------------------------\n",
      "끝났는데 뭘 나 진짜 좋아하나? ㅇㅈR해 ㅋㅋㅋ\n",
      "--------------------------------------------------------------------------------\n",
      "에헿에헿에헿헿ㅎ헿 입꼬리야. 내려가. 빨리!!  입꼬리:에헤헤헤헷ㅆ셋ㅅ헿ㅎ헿ㅎ헤!!!!\n",
      "--------------------------------------------------------------------------------\n",
      "니가ㅜ몰ㅜ아러\n",
      "--------------------------------------------------------------------------------\n",
      "이 바보야!!! 그걸 키스 직전에 깨달았으면 얼마나 좋아!!!\n",
      "--------------------------------------------------------------------------------\n",
      "ㅇㅇ 늦었어\n",
      "--------------------------------------------------------------------------------\n",
      "겠냐고 ㅠㅠㅋㅋㅋㅋㅋㅋ\n",
      "--------------------------------------------------------------------------------\n",
      "당위의 연애와 사실의 연애... 사귀기로 약속한 사람만 좋아하기로하지만, 마음이란건 이리저리 날뛰는 것~ 연애하는 사람들은 다들 저러고 사는거지...\n",
      "--------------------------------------------------------------------------------\n",
      "이미 늦었어\n",
      "--------------------------------------------------------------------------------\n",
      "어제의 조... 너어는 진짜 \n",
      "촉 좋은척 흐지므르...\n",
      "--------------------------------------------------------------------------------\n",
      "컥 그런 오해를...  완이는 내내 기다렸다구ㅠ\n",
      "--------------------------------------------------------------------------------\n",
      "연애는 타이밍...\n",
      "--------------------------------------------------------------------------------\n",
      "느려..\n",
      "--------------------------------------------------------------------------------\n",
      "아... 왜 이 타이밍에 끊어\n",
      "--------------------------------------------------------------------------------\n",
      "이게 더 민망한데;;;\n",
      "--------------------------------------------------------------------------------\n",
      "타이밍...\n",
      "--------------------------------------------------------------------------------\n",
      "짝사랑한지  완이도 꽤 됐잖아! 그러면 그렇게 수치사를 했을지언정 마음은 아직도 남아있지! 수치사 다음엔 오기라는 녀석이 발동해서~ 다시 새로운 은조노트와 오답노트로 철저히 어드벤스드 클라스를 듣고 올껄?! 짝사랑이 한번 차였다고 그리 쉽게 꺼지는게 아니거든~\n",
      "--------------------------------------------------------------------------------\n",
      "근데 저거 몇 컷인지도 알려주면 안되나..?\n",
      "--------------------------------------------------------------------------------\n",
      "대리만족...하고 싶은 마음 ㅜㅠ\n",
      "--------------------------------------------------------------------------------\n",
      "아니 그래서 이 정확한 눈치로 제대로 된 결론까지 와놓고 문자는 왜 그따구냐고 은조야ㅏ\n",
      "--------------------------------------------------------------------------------\n",
      "응!!!!!\n",
      "--------------------------------------------------------------------------------\n",
      "베댓 뺏은걸로 새로운 베댓 4개 창출ㅋㅋㅋㅋ\n",
      "--------------------------------------------------------------------------------\n",
      "아 뭐냐고~~~~~~~~~!~!\n",
      "--------------------------------------------------------------------------------\n",
      "악 완이 이미 사망했어\n",
      "--------------------------------------------------------------------------------\n",
      "새디킴같아\n",
      "--------------------------------------------------------------------------------\n",
      "근데 어조 넌 몰랐을 수도 있어\n",
      "--------------------------------------------------------------------------------\n",
      "사랑에 자존심이어딨어? 완이한테연락해! 돌아온다귱\n",
      "--------------------------------------------------------------------------------\n",
      "바보야 바보야\n",
      "--------------------------------------------------------------------------------\n",
      "이미 끝났어 조완은 다시 차가운 도시남자 모드로 변경 됬다구 ㅠㅠ\n",
      "--------------------------------------------------------------------------------\n",
      "전 둘이 안사귀고 친구로 지내면 좋겠어요 이성적 호감없을때의 케미가 좋아서 ㅋㅋ\n",
      "--------------------------------------------------------------------------------\n",
      "하여간에 둔해 터진 곰녀라니깐\n",
      "--------------------------------------------------------------------------------\n",
      "사랑은 타이밍\n",
      "--------------------------------------------------------------------------------\n",
      "그런데 우리가 어제의 조에게 너무 점수를 후하게 주는거 아니야? 저 남방을 입고있는 어제의 조가 완이 심정을 알만한 민감한 인물이었나? ㅋㅋㅋㅋㅋ\n",
      "--------------------------------------------------------------------------------\n",
      "대기업의 횡포 ㅠㅠ\n",
      "--------------------------------------------------------------------------------\n",
      "이컷 너무 귀엽다.. 어린이 만화같아\n",
      "--------------------------------------------------------------------------------\n",
      "네\n",
      "--------------------------------------------------------------------------------\n",
      "이동건 작가님 실물 한번 보고싶어요 천재 아니세요?? 이런 구성 너무 참신해\n",
      "--------------------------------------------------------------------------------\n",
      "으이구\n",
      "--------------------------------------------------------------------------------\n",
      "인생사 타이밍 에효 근데 또 이렇게 끝나지 않을 수도 있으니까\n",
      "기대 쫌 해보겠으\n",
      "--------------------------------------------------------------------------------\n",
      "뭐랰ㅋㅋ인싸들이 왜 식후에 뽀뽀하냐고 ㅋㅋㅋ\n",
      "--------------------------------------------------------------------------------\n",
      "그때부터 였어요, 순간이 1년이 된 게\n",
      "--------------------------------------------------------------------------------\n",
      "했으면 바로 ㅅㅅ각이었지 진지하게 생각했으면 안하는게 맞았다\n",
      "--------------------------------------------------------------------------------\n",
      "대놓구물어봐주면안되 이렇게 타이밍이 중요하다지\n",
      "--------------------------------------------------------------------------------\n",
      "둘이 약간....아니 많이 엇갈린 거 같은데.... 😢\n",
      "--------------------------------------------------------------------------------\n",
      "ㅇㅇㅇㅇㅇㅇㅇㅇ!!!!!!\n",
      "--------------------------------------------------------------------------------\n",
      "와 집 최고다\n",
      "--------------------------------------------------------------------------------\n",
      "응 맞아 그거야\n",
      "--------------------------------------------------------------------------------\n",
      "어서 완이한테 전화해서 다시 수습해봐 ㅠ!!!!\n",
      "--------------------------------------------------------------------------------\n",
      "한번이 아니잖아!\n",
      "--------------------------------------------------------------------------------\n",
      "은조야…. ㅠㅠㅠㅠㅠㅠ\n",
      "--------------------------------------------------------------------------------\n",
      "은조야 선톡 보내!!!\n",
      "--------------------------------------------------------------------------------\n",
      "바보\n",
      "--------------------------------------------------------------------------------\n",
      "으이구 그걸 이제 알았냐? 완이 그렇게 보내놓고? 힝..\n",
      "--------------------------------------------------------------------------------\n",
      "이게 뭐라고라닠ㅋㅋㅋㅋㅋ\n",
      "--------------------------------------------------------------------------------\n",
      "너무 느리네 ㅋㅋ 그걸 이제서야 고민한다고? ㅋㅋ 그낭 키갈 한번 하고 그 다음에 확인해봐도 늦지 않은데 ㅋㅋ 멍청하긴\n",
      "--------------------------------------------------------------------------------\n",
      "폐기물 웹툰 😬\n",
      "--------------------------------------------------------------------------------\n",
      "뿡\n",
      "--------------------------------------------------------------------------------\n",
      "어\n",
      "--------------------------------------------------------------------------------\n",
      "시판 나 가타\n",
      "--------------------------------------------------------------------------------\n",
      "집 진짜 좋다\n",
      "--------------------------------------------------------------------------------\n",
      "저런..저도 지금신랑이랑 사귀기전에한번도 날 좋아한다는 느낌을 받은적이 없어서 사귀면서도 좋아서 사귀는건지 외로워서사귀는건지 계속 확인했엏는데ㅠㅠ\n",
      "--------------------------------------------------------------------------------\n",
      "미친\n",
      "--------------------------------------------------------------------------------\n",
      "ㅠㅠ\n",
      "--------------------------------------------------------------------------------\n",
      "버스 떠났어, 이 여자야.\n",
      "--------------------------------------------------------------------------------\n",
      "아 이거 겁나 웃기넼ㅋㅋㅌㅋㅋ\n",
      "--------------------------------------------------------------------------------\n",
      "늗엇어!! ㅋㅋㅋㅋㅋㅋ\n",
      "--------------------------------------------------------------------------------\n",
      "진짜 한번이면 기억도 안나겠지만 이미 인식할 정도로 꽤 많았던거겠지\n",
      "--------------------------------------------------------------------------------\n",
      "그래\n",
      "--------------------------------------------------------------------------------\n",
      "타이밍 머선 일이냐구.....ㅠㅜㅜ주 이미 늦었어.... 은조야ㅠㅜㅜ\n",
      "--------------------------------------------------------------------------------\n",
      "베댓 실직 ㅋㅋㅋㅋ\n",
      "--------------------------------------------------------------------------------\n",
      "은조 위컷 아래컷 머리스타일이 다르네?\n",
      "--------------------------------------------------------------------------------\n",
      "밀어내는  은조 왜케 청순 귀염 부끄 한데ㅋㅋㅋ\n",
      "--------------------------------------------------------------------------------\n",
      "그래해...\n",
      "--------------------------------------------------------------------------------\n",
      "은조개웃기다고 진짜...앜ㅋㅋ\n",
      "--------------------------------------------------------------------------------\n",
      "어\n",
      "--------------------------------------------------------------------------------\n",
      "네\n",
      "--------------------------------------------------------------------------------\n",
      "넌 몰라 바보야\n",
      "--------------------------------------------------------------------------------\n",
      "니가 몰알아ㅜ\n",
      "--------------------------------------------------------------------------------\n",
      "완이...삼가 고인의 명복을..💐\n",
      "--------------------------------------------------------------------------------\n",
      "코가 안경에 걸렷눈데 진입 불가 아니얏?ㅠㅠ\n",
      "--------------------------------------------------------------------------------\n",
      "언니 머시써!!!!!!!ㅠㅠ 개간지ㅠㅠㅠ\n",
      "--------------------------------------------------------------------------------\n",
      "흐엉어ㅠㅠㅠㅠㅠㅠㅠㅠㅠㅠㅠ\n",
      "--------------------------------------------------------------------------------\n",
      "몬소리얕ㅋㅋㅋㅋㅋ\n",
      "--------------------------------------------------------------------------------\n",
      "끄앜ㅋㅋㅋㅋㅋㅋㅋㅋ\n",
      "--------------------------------------------------------------------------------\n",
      "왘ㅋㅋ\n",
      "--------------------------------------------------------------------------------\n",
      "저어기 그 옆동네 경우 생각나넹 ㅎㅎㅎ\n",
      "--------------------------------------------------------------------------------\n",
      "우와 이렇게 빨리 알아챈거야? 역시 눈치 크으~\n",
      "--------------------------------------------------------------------------------\n",
      "이제 알았냐 으이구\n",
      "--------------------------------------------------------------------------------\n",
      "인생은 타이밍 ㅠㅠㅠ\n",
      "--------------------------------------------------------------------------------\n",
      "아니ㅠㅋㅋㅋㅋㅋㅋ\n",
      "--------------------------------------------------------------------------------\n",
      "정답! 언니 근데 이미 완은 반 죽은 상태야\n",
      "--------------------------------------------------------------------------------\n",
      "부럽다..\n",
      "--------------------------------------------------------------------------------\n",
      "그정도였는데도 너가 몰랐어..\n",
      "--------------------------------------------------------------------------------\n",
      "용의자 심문하는거 같다 ㅋㅋㅋ\n",
      "--------------------------------------------------------------------------------\n",
      "순간적이면 안됨? 사랑에 계획서가 필수임?\n",
      "--------------------------------------------------------------------------------\n",
      "버스떠난뒤에 쇼해봐야 안돌아온다\n",
      "--------------------------------------------------------------------------------\n",
      "ㅋㅋㅋㅋㅋㅋㅋㅋㅋㅋㅋㅋㅋㅋㅋㅋㅋㅋㅋㅋㅋㅋㅋ\n",
      "--------------------------------------------------------------------------------\n",
      "늦었어 완이 이미 관짝 들어갔다구\n",
      "--------------------------------------------------------------------------------\n",
      "아 안돼 타이밍 ㅠㅠㅠ 완이는 거절당하고 흑화했는데 은조는 지금 설레고있다니ㅠ\n",
      "--------------------------------------------------------------------------------\n",
      "내 남친이라니 ㅋㅋㅋㅋㅋㅋ 너무 귀여워\n",
      "--------------------------------------------------------------------------------\n",
      "ㅋㅋㅋㅋㅋ 인싸들은 식후 뽀뽀하나 아니ㅋㅋㅋㅋㅋ\n",
      "--------------------------------------------------------------------------------\n",
      "친구를 잃는 대신 존잘 남친을 얻겠지....\n",
      "--------------------------------------------------------------------------------\n",
      "알려주는 거 존나 친절해 ㅋㅌㅋㅋㅋ\n",
      "--------------------------------------------------------------------------------\n",
      "은조 입장에서는 그렇게 느껴질만두 했겠다 1년동안 연락 안하던 상태니까..\n",
      "--------------------------------------------------------------------------------\n",
      "은조 성공했구나 전망 좋은집 킹사이즈 침대에서 나 좋다는 존잘 연하남 생각에 밤 잠 못이루고\n",
      "--------------------------------------------------------------------------------\n",
      "알았으면 완이한테 연락 좀 해줘\n",
      "--------------------------------------------------------------------------------\n",
      "난 또 뭐라고라니ㅋㅋㅋㅋㅋㅋ별일 아닌것처럼 얘기하네ㅋㅋㅋㅋ\n",
      "--------------------------------------------------------------------------------\n",
      "야.. 왜 농락하고 그래..\n",
      "--------------------------------------------------------------------------------\n",
      "은조...가끔가다 삔또 나간 생각하는게 너무 웃기다\n",
      "--------------------------------------------------------------------------------\n",
      "남친이 날라갔다\n",
      "--------------------------------------------------------------------------------\n",
      "내일의 조 믿고 잇었다고 젠장~~~~~~~\n",
      "--------------------------------------------------------------------------------\n",
      "무빙건, 나 요즘 일주일 내내 조조코믹스만 기다려.\n"
     ]
    },
    {
     "ename": "NoSuchElementException",
     "evalue": "Message: no such element: Unable to locate element: {\"method\":\"xpath\",\"selector\":\"//*[@id=\"cbox_module\"]/div/div[7]/div/a[10]\"}\n  (Session info: chrome=96.0.4664.110)\nStacktrace:\nBacktrace:\n\tOrdinal0 [0x01266903+2517251]\n\tOrdinal0 [0x011FF8E1+2095329]\n\tOrdinal0 [0x01102848+1058888]\n\tOrdinal0 [0x0112D448+1233992]\n\tOrdinal0 [0x0112D63B+1234491]\n\tOrdinal0 [0x01157812+1406994]\n\tOrdinal0 [0x0114650A+1336586]\n\tOrdinal0 [0x01155BBF+1399743]\n\tOrdinal0 [0x0114639B+1336219]\n\tOrdinal0 [0x011227A7+1189799]\n\tOrdinal0 [0x01123609+1193481]\n\tGetHandleVerifier [0x013F5904+1577972]\n\tGetHandleVerifier [0x014A0B97+2279047]\n\tGetHandleVerifier [0x012F6D09+534521]\n\tGetHandleVerifier [0x012F5DB9+530601]\n\tOrdinal0 [0x01204FF9+2117625]\n\tOrdinal0 [0x012098A8+2136232]\n\tOrdinal0 [0x012099E2+2136546]\n\tOrdinal0 [0x01213541+2176321]\n\tBaseThreadInitThunk [0x76D46739+25]\n\tRtlGetFullPathName_UEx [0x77DD8AFF+1215]\n\tRtlGetFullPathName_UEx [0x77DD8ACD+1165]\n",
     "output_type": "error",
     "traceback": [
      "\u001b[1;31m---------------------------------------------------------------------------\u001b[0m",
      "\u001b[1;31mNoSuchElementException\u001b[0m                    Traceback (most recent call last)",
      "\u001b[1;32m~\\AppData\\Local\\Temp/ipykernel_2688/2183111576.py\u001b[0m in \u001b[0;36m<module>\u001b[1;34m\u001b[0m\n\u001b[0;32m     14\u001b[0m \u001b[1;33m\u001b[0m\u001b[0m\n\u001b[0;32m     15\u001b[0m \u001b[1;32mfor\u001b[0m \u001b[0mi\u001b[0m \u001b[1;32min\u001b[0m \u001b[0mrange\u001b[0m\u001b[1;33m(\u001b[0m\u001b[1;36m2\u001b[0m\u001b[1;33m,\u001b[0m \u001b[1;36m11\u001b[0m\u001b[1;33m)\u001b[0m\u001b[1;33m:\u001b[0m\u001b[1;33m\u001b[0m\u001b[1;33m\u001b[0m\u001b[0m\n\u001b[1;32m---> 16\u001b[1;33m     \u001b[0mdriver\u001b[0m\u001b[1;33m.\u001b[0m\u001b[0mfind_element_by_xpath\u001b[0m\u001b[1;33m(\u001b[0m\u001b[1;34m'//*[@id=\"cbox_module\"]/div/div[7]/div/a['\u001b[0m \u001b[1;33m+\u001b[0m \u001b[0mstr\u001b[0m\u001b[1;33m(\u001b[0m\u001b[0mi\u001b[0m\u001b[1;33m)\u001b[0m \u001b[1;33m+\u001b[0m \u001b[1;34m']'\u001b[0m\u001b[1;33m)\u001b[0m\u001b[1;33m.\u001b[0m\u001b[0mclick\u001b[0m\u001b[1;33m(\u001b[0m\u001b[1;33m)\u001b[0m\u001b[1;33m\u001b[0m\u001b[1;33m\u001b[0m\u001b[0m\n\u001b[0m\u001b[0;32m     17\u001b[0m     \u001b[0mtime\u001b[0m\u001b[1;33m.\u001b[0m\u001b[0msleep\u001b[0m\u001b[1;33m(\u001b[0m\u001b[1;36m5\u001b[0m\u001b[1;33m)\u001b[0m\u001b[1;33m\u001b[0m\u001b[1;33m\u001b[0m\u001b[0m\n\u001b[0;32m     18\u001b[0m     \u001b[0mhtml\u001b[0m \u001b[1;33m=\u001b[0m \u001b[0mdriver\u001b[0m\u001b[1;33m.\u001b[0m\u001b[0mpage_source\u001b[0m\u001b[1;33m\u001b[0m\u001b[1;33m\u001b[0m\u001b[0m\n",
      "\u001b[1;32mc:\\users\\yongh\\appdata\\local\\programs\\python\\python38\\lib\\site-packages\\selenium\\webdriver\\remote\\webdriver.py\u001b[0m in \u001b[0;36mfind_element_by_xpath\u001b[1;34m(self, xpath)\u001b[0m\n\u001b[0;32m    518\u001b[0m             \u001b[0mstacklevel\u001b[0m\u001b[1;33m=\u001b[0m\u001b[1;36m2\u001b[0m\u001b[1;33m,\u001b[0m\u001b[1;33m\u001b[0m\u001b[1;33m\u001b[0m\u001b[0m\n\u001b[0;32m    519\u001b[0m         )\n\u001b[1;32m--> 520\u001b[1;33m         \u001b[1;32mreturn\u001b[0m \u001b[0mself\u001b[0m\u001b[1;33m.\u001b[0m\u001b[0mfind_element\u001b[0m\u001b[1;33m(\u001b[0m\u001b[0mby\u001b[0m\u001b[1;33m=\u001b[0m\u001b[0mBy\u001b[0m\u001b[1;33m.\u001b[0m\u001b[0mXPATH\u001b[0m\u001b[1;33m,\u001b[0m \u001b[0mvalue\u001b[0m\u001b[1;33m=\u001b[0m\u001b[0mxpath\u001b[0m\u001b[1;33m)\u001b[0m\u001b[1;33m\u001b[0m\u001b[1;33m\u001b[0m\u001b[0m\n\u001b[0m\u001b[0;32m    521\u001b[0m \u001b[1;33m\u001b[0m\u001b[0m\n\u001b[0;32m    522\u001b[0m     \u001b[1;32mdef\u001b[0m \u001b[0mfind_elements_by_xpath\u001b[0m\u001b[1;33m(\u001b[0m\u001b[0mself\u001b[0m\u001b[1;33m,\u001b[0m \u001b[0mxpath\u001b[0m\u001b[1;33m)\u001b[0m \u001b[1;33m->\u001b[0m \u001b[0mWebElement\u001b[0m\u001b[1;33m:\u001b[0m\u001b[1;33m\u001b[0m\u001b[1;33m\u001b[0m\u001b[0m\n",
      "\u001b[1;32mc:\\users\\yongh\\appdata\\local\\programs\\python\\python38\\lib\\site-packages\\selenium\\webdriver\\remote\\webdriver.py\u001b[0m in \u001b[0;36mfind_element\u001b[1;34m(self, by, value)\u001b[0m\n\u001b[0;32m   1242\u001b[0m             \u001b[0mvalue\u001b[0m \u001b[1;33m=\u001b[0m \u001b[1;34m'[name=\"%s\"]'\u001b[0m \u001b[1;33m%\u001b[0m \u001b[0mvalue\u001b[0m\u001b[1;33m\u001b[0m\u001b[1;33m\u001b[0m\u001b[0m\n\u001b[0;32m   1243\u001b[0m \u001b[1;33m\u001b[0m\u001b[0m\n\u001b[1;32m-> 1244\u001b[1;33m         return self.execute(Command.FIND_ELEMENT, {\n\u001b[0m\u001b[0;32m   1245\u001b[0m             \u001b[1;34m'using'\u001b[0m\u001b[1;33m:\u001b[0m \u001b[0mby\u001b[0m\u001b[1;33m,\u001b[0m\u001b[1;33m\u001b[0m\u001b[1;33m\u001b[0m\u001b[0m\n\u001b[0;32m   1246\u001b[0m             'value': value})['value']\n",
      "\u001b[1;32mc:\\users\\yongh\\appdata\\local\\programs\\python\\python38\\lib\\site-packages\\selenium\\webdriver\\remote\\webdriver.py\u001b[0m in \u001b[0;36mexecute\u001b[1;34m(self, driver_command, params)\u001b[0m\n\u001b[0;32m    422\u001b[0m         \u001b[0mresponse\u001b[0m \u001b[1;33m=\u001b[0m \u001b[0mself\u001b[0m\u001b[1;33m.\u001b[0m\u001b[0mcommand_executor\u001b[0m\u001b[1;33m.\u001b[0m\u001b[0mexecute\u001b[0m\u001b[1;33m(\u001b[0m\u001b[0mdriver_command\u001b[0m\u001b[1;33m,\u001b[0m \u001b[0mparams\u001b[0m\u001b[1;33m)\u001b[0m\u001b[1;33m\u001b[0m\u001b[1;33m\u001b[0m\u001b[0m\n\u001b[0;32m    423\u001b[0m         \u001b[1;32mif\u001b[0m \u001b[0mresponse\u001b[0m\u001b[1;33m:\u001b[0m\u001b[1;33m\u001b[0m\u001b[1;33m\u001b[0m\u001b[0m\n\u001b[1;32m--> 424\u001b[1;33m             \u001b[0mself\u001b[0m\u001b[1;33m.\u001b[0m\u001b[0merror_handler\u001b[0m\u001b[1;33m.\u001b[0m\u001b[0mcheck_response\u001b[0m\u001b[1;33m(\u001b[0m\u001b[0mresponse\u001b[0m\u001b[1;33m)\u001b[0m\u001b[1;33m\u001b[0m\u001b[1;33m\u001b[0m\u001b[0m\n\u001b[0m\u001b[0;32m    425\u001b[0m             response['value'] = self._unwrap_value(\n\u001b[0;32m    426\u001b[0m                 response.get('value', None))\n",
      "\u001b[1;32mc:\\users\\yongh\\appdata\\local\\programs\\python\\python38\\lib\\site-packages\\selenium\\webdriver\\remote\\errorhandler.py\u001b[0m in \u001b[0;36mcheck_response\u001b[1;34m(self, response)\u001b[0m\n\u001b[0;32m    245\u001b[0m                 \u001b[0malert_text\u001b[0m \u001b[1;33m=\u001b[0m \u001b[0mvalue\u001b[0m\u001b[1;33m[\u001b[0m\u001b[1;34m'alert'\u001b[0m\u001b[1;33m]\u001b[0m\u001b[1;33m.\u001b[0m\u001b[0mget\u001b[0m\u001b[1;33m(\u001b[0m\u001b[1;34m'text'\u001b[0m\u001b[1;33m)\u001b[0m\u001b[1;33m\u001b[0m\u001b[1;33m\u001b[0m\u001b[0m\n\u001b[0;32m    246\u001b[0m             \u001b[1;32mraise\u001b[0m \u001b[0mexception_class\u001b[0m\u001b[1;33m(\u001b[0m\u001b[0mmessage\u001b[0m\u001b[1;33m,\u001b[0m \u001b[0mscreen\u001b[0m\u001b[1;33m,\u001b[0m \u001b[0mstacktrace\u001b[0m\u001b[1;33m,\u001b[0m \u001b[0malert_text\u001b[0m\u001b[1;33m)\u001b[0m  \u001b[1;31m# type: ignore[call-arg]  # mypy is not smart enough here\u001b[0m\u001b[1;33m\u001b[0m\u001b[1;33m\u001b[0m\u001b[0m\n\u001b[1;32m--> 247\u001b[1;33m         \u001b[1;32mraise\u001b[0m \u001b[0mexception_class\u001b[0m\u001b[1;33m(\u001b[0m\u001b[0mmessage\u001b[0m\u001b[1;33m,\u001b[0m \u001b[0mscreen\u001b[0m\u001b[1;33m,\u001b[0m \u001b[0mstacktrace\u001b[0m\u001b[1;33m)\u001b[0m\u001b[1;33m\u001b[0m\u001b[1;33m\u001b[0m\u001b[0m\n\u001b[0m\u001b[0;32m    248\u001b[0m \u001b[1;33m\u001b[0m\u001b[0m\n\u001b[0;32m    249\u001b[0m     \u001b[1;32mdef\u001b[0m \u001b[0m_value_or_default\u001b[0m\u001b[1;33m(\u001b[0m\u001b[0mself\u001b[0m\u001b[1;33m,\u001b[0m \u001b[0mobj\u001b[0m\u001b[1;33m:\u001b[0m \u001b[0mMapping\u001b[0m\u001b[1;33m[\u001b[0m\u001b[0m_KT\u001b[0m\u001b[1;33m,\u001b[0m \u001b[0m_VT\u001b[0m\u001b[1;33m]\u001b[0m\u001b[1;33m,\u001b[0m \u001b[0mkey\u001b[0m\u001b[1;33m:\u001b[0m \u001b[0m_KT\u001b[0m\u001b[1;33m,\u001b[0m \u001b[0mdefault\u001b[0m\u001b[1;33m:\u001b[0m \u001b[0m_VT\u001b[0m\u001b[1;33m)\u001b[0m \u001b[1;33m->\u001b[0m \u001b[0m_VT\u001b[0m\u001b[1;33m:\u001b[0m\u001b[1;33m\u001b[0m\u001b[1;33m\u001b[0m\u001b[0m\n",
      "\u001b[1;31mNoSuchElementException\u001b[0m: Message: no such element: Unable to locate element: {\"method\":\"xpath\",\"selector\":\"//*[@id=\"cbox_module\"]/div/div[7]/div/a[10]\"}\n  (Session info: chrome=96.0.4664.110)\nStacktrace:\nBacktrace:\n\tOrdinal0 [0x01266903+2517251]\n\tOrdinal0 [0x011FF8E1+2095329]\n\tOrdinal0 [0x01102848+1058888]\n\tOrdinal0 [0x0112D448+1233992]\n\tOrdinal0 [0x0112D63B+1234491]\n\tOrdinal0 [0x01157812+1406994]\n\tOrdinal0 [0x0114650A+1336586]\n\tOrdinal0 [0x01155BBF+1399743]\n\tOrdinal0 [0x0114639B+1336219]\n\tOrdinal0 [0x011227A7+1189799]\n\tOrdinal0 [0x01123609+1193481]\n\tGetHandleVerifier [0x013F5904+1577972]\n\tGetHandleVerifier [0x014A0B97+2279047]\n\tGetHandleVerifier [0x012F6D09+534521]\n\tGetHandleVerifier [0x012F5DB9+530601]\n\tOrdinal0 [0x01204FF9+2117625]\n\tOrdinal0 [0x012098A8+2136232]\n\tOrdinal0 [0x012099E2+2136546]\n\tOrdinal0 [0x01213541+2176321]\n\tBaseThreadInitThunk [0x76D46739+25]\n\tRtlGetFullPathName_UEx [0x77DD8AFF+1215]\n\tRtlGetFullPathName_UEx [0x77DD8ACD+1165]\n"
     ]
    }
   ],
   "source": [
    "import time\n",
    "\n",
    "\n",
    "html = driver.page_source\n",
    "soup = BeautifulSoup(html)\n",
    "\n",
    "comment_area = soup.findAll('span', {'class':'u_cbox_contents'})\n",
    "\n",
    "print('*** 전체 댓글 ***')\n",
    "for i in range(len(comment_area)):\n",
    "    comment = comment_area[i].text.strip()\n",
    "    print('-'*80)\n",
    "    print(comment)\n",
    "    \n",
    "for i in range(2, 11):\n",
    "    driver.find_element_by_xpath('//*[@id=\"cbox_module\"]/div/div[7]/div/a[' + str(i) + ']').click()\n",
    "    time.sleep(1)\n",
    "    html = driver.page_source\n",
    "    soup = BeautifulSoup(html)\n",
    "\n",
    "    comment_area = soup.findAll('span', {'class':'u_cbox_contents'})\n",
    "\n",
    "    for i in range(len(comment_area)):\n",
    "        comment = comment_area[i].text.strip()\n",
    "        print('-'*80)\n",
    "        print(comment)\n"
   ]
  },
  {
   "cell_type": "code",
   "execution_count": 59,
   "id": "f004136d-44df-4814-9006-fba6400d81b3",
   "metadata": {
    "tags": []
   },
   "outputs": [
    {
     "name": "stderr",
     "output_type": "stream",
     "text": [
      "C:\\Users\\yongh\\AppData\\Local\\Temp/ipykernel_2688/2045401346.py:3: DeprecationWarning: find_element_by_* commands are deprecated. Please use find_element() instead\n",
      "  driver.find_element_by_xpath('//*[@id=\"cbox_module\"]/div/div[7]/div/a[' + str(i) + ']').click()\n"
     ]
    },
    {
     "ename": "StaleElementReferenceException",
     "evalue": "Message: stale element reference: element is not attached to the page document\n  (Session info: chrome=96.0.4664.110)\nStacktrace:\nBacktrace:\n\tOrdinal0 [0x01266903+2517251]\n\tOrdinal0 [0x011FF8E1+2095329]\n\tOrdinal0 [0x01102848+1058888]\n\tOrdinal0 [0x01104F44+1068868]\n\tOrdinal0 [0x01104E0E+1068558]\n\tOrdinal0 [0x01105070+1069168]\n\tOrdinal0 [0x0112F306+1241862]\n\tOrdinal0 [0x0112E2D0+1237712]\n\tOrdinal0 [0x01124037+1196087]\n\tOrdinal0 [0x011464D3+1336531]\n\tOrdinal0 [0x01123A36+1194550]\n\tOrdinal0 [0x011465BA+1336762]\n\tOrdinal0 [0x01155BBF+1399743]\n\tOrdinal0 [0x0114639B+1336219]\n\tOrdinal0 [0x011227A7+1189799]\n\tOrdinal0 [0x01123609+1193481]\n\tGetHandleVerifier [0x013F5904+1577972]\n\tGetHandleVerifier [0x014A0B97+2279047]\n\tGetHandleVerifier [0x012F6D09+534521]\n\tGetHandleVerifier [0x012F5DB9+530601]\n\tOrdinal0 [0x01204FF9+2117625]\n\tOrdinal0 [0x012098A8+2136232]\n\tOrdinal0 [0x012099E2+2136546]\n\tOrdinal0 [0x01213541+2176321]\n\tBaseThreadInitThunk [0x76D46739+25]\n\tRtlGetFullPathName_UEx [0x77DD8AFF+1215]\n\tRtlGetFullPathName_UEx [0x77DD8ACD+1165]\n",
     "output_type": "error",
     "traceback": [
      "\u001b[1;31m---------------------------------------------------------------------------\u001b[0m",
      "\u001b[1;31mStaleElementReferenceException\u001b[0m            Traceback (most recent call last)",
      "\u001b[1;32m~\\AppData\\Local\\Temp/ipykernel_2688/2045401346.py\u001b[0m in \u001b[0;36m<module>\u001b[1;34m\u001b[0m\n\u001b[0;32m      1\u001b[0m \u001b[1;32mimport\u001b[0m \u001b[0mtime\u001b[0m\u001b[1;33m\u001b[0m\u001b[1;33m\u001b[0m\u001b[0m\n\u001b[0;32m      2\u001b[0m \u001b[1;32mfor\u001b[0m \u001b[0mi\u001b[0m \u001b[1;32min\u001b[0m \u001b[0mrange\u001b[0m\u001b[1;33m(\u001b[0m\u001b[1;36m1\u001b[0m\u001b[1;33m,\u001b[0m \u001b[1;36m11\u001b[0m\u001b[1;33m)\u001b[0m\u001b[1;33m:\u001b[0m\u001b[1;33m\u001b[0m\u001b[1;33m\u001b[0m\u001b[0m\n\u001b[1;32m----> 3\u001b[1;33m     \u001b[0mdriver\u001b[0m\u001b[1;33m.\u001b[0m\u001b[0mfind_element_by_xpath\u001b[0m\u001b[1;33m(\u001b[0m\u001b[1;34m'//*[@id=\"cbox_module\"]/div/div[7]/div/a['\u001b[0m \u001b[1;33m+\u001b[0m \u001b[0mstr\u001b[0m\u001b[1;33m(\u001b[0m\u001b[0mi\u001b[0m\u001b[1;33m)\u001b[0m \u001b[1;33m+\u001b[0m \u001b[1;34m']'\u001b[0m\u001b[1;33m)\u001b[0m\u001b[1;33m.\u001b[0m\u001b[0mclick\u001b[0m\u001b[1;33m(\u001b[0m\u001b[1;33m)\u001b[0m\u001b[1;33m\u001b[0m\u001b[1;33m\u001b[0m\u001b[0m\n\u001b[0m",
      "\u001b[1;32mc:\\users\\yongh\\appdata\\local\\programs\\python\\python38\\lib\\site-packages\\selenium\\webdriver\\remote\\webelement.py\u001b[0m in \u001b[0;36mclick\u001b[1;34m(self)\u001b[0m\n\u001b[0;32m     79\u001b[0m     \u001b[1;32mdef\u001b[0m \u001b[0mclick\u001b[0m\u001b[1;33m(\u001b[0m\u001b[0mself\u001b[0m\u001b[1;33m)\u001b[0m \u001b[1;33m->\u001b[0m \u001b[1;32mNone\u001b[0m\u001b[1;33m:\u001b[0m\u001b[1;33m\u001b[0m\u001b[1;33m\u001b[0m\u001b[0m\n\u001b[0;32m     80\u001b[0m         \u001b[1;34m\"\"\"Clicks the element.\"\"\"\u001b[0m\u001b[1;33m\u001b[0m\u001b[1;33m\u001b[0m\u001b[0m\n\u001b[1;32m---> 81\u001b[1;33m         \u001b[0mself\u001b[0m\u001b[1;33m.\u001b[0m\u001b[0m_execute\u001b[0m\u001b[1;33m(\u001b[0m\u001b[0mCommand\u001b[0m\u001b[1;33m.\u001b[0m\u001b[0mCLICK_ELEMENT\u001b[0m\u001b[1;33m)\u001b[0m\u001b[1;33m\u001b[0m\u001b[1;33m\u001b[0m\u001b[0m\n\u001b[0m\u001b[0;32m     82\u001b[0m \u001b[1;33m\u001b[0m\u001b[0m\n\u001b[0;32m     83\u001b[0m     \u001b[1;32mdef\u001b[0m \u001b[0msubmit\u001b[0m\u001b[1;33m(\u001b[0m\u001b[0mself\u001b[0m\u001b[1;33m)\u001b[0m\u001b[1;33m:\u001b[0m\u001b[1;33m\u001b[0m\u001b[1;33m\u001b[0m\u001b[0m\n",
      "\u001b[1;32mc:\\users\\yongh\\appdata\\local\\programs\\python\\python38\\lib\\site-packages\\selenium\\webdriver\\remote\\webelement.py\u001b[0m in \u001b[0;36m_execute\u001b[1;34m(self, command, params)\u001b[0m\n\u001b[0;32m    708\u001b[0m             \u001b[0mparams\u001b[0m \u001b[1;33m=\u001b[0m \u001b[1;33m{\u001b[0m\u001b[1;33m}\u001b[0m\u001b[1;33m\u001b[0m\u001b[1;33m\u001b[0m\u001b[0m\n\u001b[0;32m    709\u001b[0m         \u001b[0mparams\u001b[0m\u001b[1;33m[\u001b[0m\u001b[1;34m'id'\u001b[0m\u001b[1;33m]\u001b[0m \u001b[1;33m=\u001b[0m \u001b[0mself\u001b[0m\u001b[1;33m.\u001b[0m\u001b[0m_id\u001b[0m\u001b[1;33m\u001b[0m\u001b[1;33m\u001b[0m\u001b[0m\n\u001b[1;32m--> 710\u001b[1;33m         \u001b[1;32mreturn\u001b[0m \u001b[0mself\u001b[0m\u001b[1;33m.\u001b[0m\u001b[0m_parent\u001b[0m\u001b[1;33m.\u001b[0m\u001b[0mexecute\u001b[0m\u001b[1;33m(\u001b[0m\u001b[0mcommand\u001b[0m\u001b[1;33m,\u001b[0m \u001b[0mparams\u001b[0m\u001b[1;33m)\u001b[0m\u001b[1;33m\u001b[0m\u001b[1;33m\u001b[0m\u001b[0m\n\u001b[0m\u001b[0;32m    711\u001b[0m \u001b[1;33m\u001b[0m\u001b[0m\n\u001b[0;32m    712\u001b[0m     \u001b[1;32mdef\u001b[0m \u001b[0mfind_element\u001b[0m\u001b[1;33m(\u001b[0m\u001b[0mself\u001b[0m\u001b[1;33m,\u001b[0m \u001b[0mby\u001b[0m\u001b[1;33m=\u001b[0m\u001b[0mBy\u001b[0m\u001b[1;33m.\u001b[0m\u001b[0mID\u001b[0m\u001b[1;33m,\u001b[0m \u001b[0mvalue\u001b[0m\u001b[1;33m=\u001b[0m\u001b[1;32mNone\u001b[0m\u001b[1;33m)\u001b[0m\u001b[1;33m:\u001b[0m\u001b[1;33m\u001b[0m\u001b[1;33m\u001b[0m\u001b[0m\n",
      "\u001b[1;32mc:\\users\\yongh\\appdata\\local\\programs\\python\\python38\\lib\\site-packages\\selenium\\webdriver\\remote\\webdriver.py\u001b[0m in \u001b[0;36mexecute\u001b[1;34m(self, driver_command, params)\u001b[0m\n\u001b[0;32m    422\u001b[0m         \u001b[0mresponse\u001b[0m \u001b[1;33m=\u001b[0m \u001b[0mself\u001b[0m\u001b[1;33m.\u001b[0m\u001b[0mcommand_executor\u001b[0m\u001b[1;33m.\u001b[0m\u001b[0mexecute\u001b[0m\u001b[1;33m(\u001b[0m\u001b[0mdriver_command\u001b[0m\u001b[1;33m,\u001b[0m \u001b[0mparams\u001b[0m\u001b[1;33m)\u001b[0m\u001b[1;33m\u001b[0m\u001b[1;33m\u001b[0m\u001b[0m\n\u001b[0;32m    423\u001b[0m         \u001b[1;32mif\u001b[0m \u001b[0mresponse\u001b[0m\u001b[1;33m:\u001b[0m\u001b[1;33m\u001b[0m\u001b[1;33m\u001b[0m\u001b[0m\n\u001b[1;32m--> 424\u001b[1;33m             \u001b[0mself\u001b[0m\u001b[1;33m.\u001b[0m\u001b[0merror_handler\u001b[0m\u001b[1;33m.\u001b[0m\u001b[0mcheck_response\u001b[0m\u001b[1;33m(\u001b[0m\u001b[0mresponse\u001b[0m\u001b[1;33m)\u001b[0m\u001b[1;33m\u001b[0m\u001b[1;33m\u001b[0m\u001b[0m\n\u001b[0m\u001b[0;32m    425\u001b[0m             response['value'] = self._unwrap_value(\n\u001b[0;32m    426\u001b[0m                 response.get('value', None))\n",
      "\u001b[1;32mc:\\users\\yongh\\appdata\\local\\programs\\python\\python38\\lib\\site-packages\\selenium\\webdriver\\remote\\errorhandler.py\u001b[0m in \u001b[0;36mcheck_response\u001b[1;34m(self, response)\u001b[0m\n\u001b[0;32m    245\u001b[0m                 \u001b[0malert_text\u001b[0m \u001b[1;33m=\u001b[0m \u001b[0mvalue\u001b[0m\u001b[1;33m[\u001b[0m\u001b[1;34m'alert'\u001b[0m\u001b[1;33m]\u001b[0m\u001b[1;33m.\u001b[0m\u001b[0mget\u001b[0m\u001b[1;33m(\u001b[0m\u001b[1;34m'text'\u001b[0m\u001b[1;33m)\u001b[0m\u001b[1;33m\u001b[0m\u001b[1;33m\u001b[0m\u001b[0m\n\u001b[0;32m    246\u001b[0m             \u001b[1;32mraise\u001b[0m \u001b[0mexception_class\u001b[0m\u001b[1;33m(\u001b[0m\u001b[0mmessage\u001b[0m\u001b[1;33m,\u001b[0m \u001b[0mscreen\u001b[0m\u001b[1;33m,\u001b[0m \u001b[0mstacktrace\u001b[0m\u001b[1;33m,\u001b[0m \u001b[0malert_text\u001b[0m\u001b[1;33m)\u001b[0m  \u001b[1;31m# type: ignore[call-arg]  # mypy is not smart enough here\u001b[0m\u001b[1;33m\u001b[0m\u001b[1;33m\u001b[0m\u001b[0m\n\u001b[1;32m--> 247\u001b[1;33m         \u001b[1;32mraise\u001b[0m \u001b[0mexception_class\u001b[0m\u001b[1;33m(\u001b[0m\u001b[0mmessage\u001b[0m\u001b[1;33m,\u001b[0m \u001b[0mscreen\u001b[0m\u001b[1;33m,\u001b[0m \u001b[0mstacktrace\u001b[0m\u001b[1;33m)\u001b[0m\u001b[1;33m\u001b[0m\u001b[1;33m\u001b[0m\u001b[0m\n\u001b[0m\u001b[0;32m    248\u001b[0m \u001b[1;33m\u001b[0m\u001b[0m\n\u001b[0;32m    249\u001b[0m     \u001b[1;32mdef\u001b[0m \u001b[0m_value_or_default\u001b[0m\u001b[1;33m(\u001b[0m\u001b[0mself\u001b[0m\u001b[1;33m,\u001b[0m \u001b[0mobj\u001b[0m\u001b[1;33m:\u001b[0m \u001b[0mMapping\u001b[0m\u001b[1;33m[\u001b[0m\u001b[0m_KT\u001b[0m\u001b[1;33m,\u001b[0m \u001b[0m_VT\u001b[0m\u001b[1;33m]\u001b[0m\u001b[1;33m,\u001b[0m \u001b[0mkey\u001b[0m\u001b[1;33m:\u001b[0m \u001b[0m_KT\u001b[0m\u001b[1;33m,\u001b[0m \u001b[0mdefault\u001b[0m\u001b[1;33m:\u001b[0m \u001b[0m_VT\u001b[0m\u001b[1;33m)\u001b[0m \u001b[1;33m->\u001b[0m \u001b[0m_VT\u001b[0m\u001b[1;33m:\u001b[0m\u001b[1;33m\u001b[0m\u001b[1;33m\u001b[0m\u001b[0m\n",
      "\u001b[1;31mStaleElementReferenceException\u001b[0m: Message: stale element reference: element is not attached to the page document\n  (Session info: chrome=96.0.4664.110)\nStacktrace:\nBacktrace:\n\tOrdinal0 [0x01266903+2517251]\n\tOrdinal0 [0x011FF8E1+2095329]\n\tOrdinal0 [0x01102848+1058888]\n\tOrdinal0 [0x01104F44+1068868]\n\tOrdinal0 [0x01104E0E+1068558]\n\tOrdinal0 [0x01105070+1069168]\n\tOrdinal0 [0x0112F306+1241862]\n\tOrdinal0 [0x0112E2D0+1237712]\n\tOrdinal0 [0x01124037+1196087]\n\tOrdinal0 [0x011464D3+1336531]\n\tOrdinal0 [0x01123A36+1194550]\n\tOrdinal0 [0x011465BA+1336762]\n\tOrdinal0 [0x01155BBF+1399743]\n\tOrdinal0 [0x0114639B+1336219]\n\tOrdinal0 [0x011227A7+1189799]\n\tOrdinal0 [0x01123609+1193481]\n\tGetHandleVerifier [0x013F5904+1577972]\n\tGetHandleVerifier [0x014A0B97+2279047]\n\tGetHandleVerifier [0x012F6D09+534521]\n\tGetHandleVerifier [0x012F5DB9+530601]\n\tOrdinal0 [0x01204FF9+2117625]\n\tOrdinal0 [0x012098A8+2136232]\n\tOrdinal0 [0x012099E2+2136546]\n\tOrdinal0 [0x01213541+2176321]\n\tBaseThreadInitThunk [0x76D46739+25]\n\tRtlGetFullPathName_UEx [0x77DD8AFF+1215]\n\tRtlGetFullPathName_UEx [0x77DD8ACD+1165]\n"
     ]
    }
   ],
   "source": [
    "import time\n",
    "for i in range"
   ]
  }
 ],
 "metadata": {
  "kernelspec": {
   "display_name": "Python 3 (ipykernel)",
   "language": "python",
   "name": "python3"
  },
  "language_info": {
   "codemirror_mode": {
    "name": "ipython",
    "version": 3
   },
   "file_extension": ".py",
   "mimetype": "text/x-python",
   "name": "python",
   "nbconvert_exporter": "python",
   "pygments_lexer": "ipython3",
   "version": "3.8.9"
  }
 },
 "nbformat": 4,
 "nbformat_minor": 5
}
